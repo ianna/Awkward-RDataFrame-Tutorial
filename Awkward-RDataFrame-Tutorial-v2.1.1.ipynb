{
 "cells": [
  {
   "cell_type": "markdown",
   "id": "24d12071",
   "metadata": {},
   "source": [
    "# Awkward RDataFrame Tutorial\n",
    "\n",
    "* [Awkward Array and RDataFrame](#Awkward_Array_and_RDataFrame)\n",
    "* [From Awkward Array to RDataFrame](#From_Awkward_Array_to_RDataFrame)\n",
    "    * [`ak.to_rdataframe` function](#ak.to_rdataframe_function)\n",
    "    * [Columns type](#Columns_type)\n",
    "    * [Operations on data in RDataFrame](#Operations_on_data_in_RDataFrame)\n",
    "    * [Retrieve selected columns](#Retrieve_selected_columns)\n",
    "    * [Layout details](#Layout_details)\n",
    "    * [The same operation on Awkward arrays in Python](#The_same_operation_on_Awkward_arrays_in_Python)\n",
    "* [From RDataFrame to Awkward Array](#From_RDataFrame_to_Awkward_Array)\n",
    "* [Data analysis: from C++ to Python](#Data_analysis:_from_C++_to_Python)\n",
    "    * [Convert selected columns to Awkward Array](#Convert_selected_columns_to_Awkward_Array)"
   ]
  },
  {
   "cell_type": "markdown",
   "id": "1da6f078",
   "metadata": {},
   "source": [
    "## Awkward Array and RDataFrame <a class=\"anchor\" id=\"Awkward_Array_and_RDataFrame\"></a>\n",
    "\n",
    "Awkward Array and RDataFrame are two very different ways of performing calculations at scale\n",
    "\n",
    "Awkward Array is a library for nested, variable-sized data, including arbitrary-length lists, records, mixed types, and missing data, using NumPy-like idioms\n",
    "\n",
    "RDataFrame - ROOT's declarative analysis interface\n",
    "\n",
    "supports many input formats\n",
    "The Awkward-RDataFrame bridge provides users with more flexibility in mixing different packages and languages in their analyses. There are numerous benefits of combining both Python and C++. Physicists can mix analyses using Awkward Arrays, Numba, and ROOT C++ in memory, without saving to disk and without leaving their environment."
   ]
  },
  {
   "cell_type": "markdown",
   "id": "5e161045",
   "metadata": {},
   "source": [
    "## From Awkward Array to RDataFrame <a class=\"anchor\" id=\"From_Awkward_Array_to_RDataFrame\"></a>"
   ]
  },
  {
   "cell_type": "code",
   "execution_count": 1,
   "id": "fb3df321",
   "metadata": {},
   "outputs": [
    {
     "name": "stdout",
     "output_type": "stream",
     "text": [
      "Welcome to JupyROOT 6.26/10\n"
     ]
    }
   ],
   "source": [
    "import awkward as ak\n",
    "import ROOT"
   ]
  },
  {
   "cell_type": "code",
   "execution_count": 2,
   "id": "c1eab292",
   "metadata": {},
   "outputs": [],
   "source": [
    "array_x = ak.Array(\n",
    "        [\n",
    "            {\"x\": [1.1, 1.2, 1.3]},\n",
    "            {\"x\": [2.1, 2.2]},\n",
    "            {\"x\": [3.1]},\n",
    "            {\"x\": [4.1, 4.2, 4.3, 4.4]},\n",
    "            {\"x\": [5.1]},\n",
    "        ]\n",
    "    )\n",
    "array_y = ak.Array([1, 2, 3, 4, 5])\n",
    "array_z = ak.Array([[1.1], [2.1, 2.3, 2.4], [3.1], [4.1, 4.2, 4.3], [5.1]])"
   ]
  },
  {
   "cell_type": "code",
   "execution_count": 3,
   "id": "98002300",
   "metadata": {},
   "outputs": [
    {
     "name": "stdout",
     "output_type": "stream",
     "text": [
      "type: 5 * {\n",
      "    x: var * float64\n",
      "}\n",
      "[{x: [1.1, 1.2, 1.3]},\n",
      " {x: [2.1, 2.2]},\n",
      " {x: [3.1]},\n",
      " {x: [4.1, 4.2, 4.3, 4.4]},\n",
      " {x: [5.1]}]\n"
     ]
    }
   ],
   "source": [
    "array_x.show(type=True)"
   ]
  },
  {
   "cell_type": "code",
   "execution_count": 4,
   "id": "cddc4bb1",
   "metadata": {},
   "outputs": [
    {
     "name": "stdout",
     "output_type": "stream",
     "text": [
      "type: 5 * int64\n",
      "[1,\n",
      " 2,\n",
      " 3,\n",
      " 4,\n",
      " 5]\n"
     ]
    }
   ],
   "source": [
    "array_y.show(type=True)"
   ]
  },
  {
   "cell_type": "code",
   "execution_count": 5,
   "id": "be863572",
   "metadata": {},
   "outputs": [
    {
     "name": "stdout",
     "output_type": "stream",
     "text": [
      "type: 5 * var * float64\n",
      "[[1.1],\n",
      " [2.1, 2.3, 2.4],\n",
      " [3.1],\n",
      " [4.1, 4.2, 4.3],\n",
      " [5.1]]\n"
     ]
    }
   ],
   "source": [
    "array_z.show(type=True)"
   ]
  },
  {
   "cell_type": "markdown",
   "id": "d75636c4",
   "metadata": {},
   "source": [
    "### `ak.to_rdataframe` function <a class=\"anchor\" id=\"ak.to_rdataframe_function\"></a>\n",
    "\n",
    "* The awkward style `ak.to_rdataframe` function requires a dictionary:\n",
    "    * each - unique - key defines a column name in RDataFrame\n",
    "    * the arrays given for each column have to be equal length\n",
    "\n",
    "* There is a small overhead of generating Awkward RDataSource C++ code\n",
    "    * This operation does not execute the RDF event loop\n",
    "    * The array data are not copied"
   ]
  },
  {
   "cell_type": "code",
   "execution_count": 6,
   "id": "b7c755f2",
   "metadata": {},
   "outputs": [],
   "source": [
    "assert len(array_x) == len(array_y) == len(array_z)"
   ]
  },
  {
   "cell_type": "code",
   "execution_count": 7,
   "id": "35f0630b",
   "metadata": {},
   "outputs": [],
   "source": [
    "df = ak.to_rdataframe({\"x\": array_x, \"y\": array_y, \"z\": array_z})"
   ]
  },
  {
   "cell_type": "code",
   "execution_count": 8,
   "id": "80418196",
   "metadata": {},
   "outputs": [
    {
     "name": "stdout",
     "output_type": "stream",
     "text": [
      "Dataframe from datasource Custom Datasource\n",
      "\n",
      "Property                Value\n",
      "--------                -----\n",
      "Columns in total            3\n",
      "Columns from defines        0\n",
      "Event loops run             0\n",
      "Processing slots            1\n",
      "\n",
      "Column  Type                            Origin\n",
      "------  ----                            ------\n",
      "x       awkward::Record_TCZWUpuv5XA     Dataset\n",
      "y       int64_t                         Dataset\n",
      "z       ROOT::VecOps::RVec<double>      Dataset"
     ]
    }
   ],
   "source": [
    "df.Describe().Print()"
   ]
  },
  {
   "cell_type": "markdown",
   "id": "722a63d5",
   "metadata": {},
   "source": [
    "The `x` column contains an Awkward Array with a made-up type; `awkward::Record_TCZWUpuv5XA`.\n",
    "\n",
    "Awkward Arrays are dynamically typed, so in a C++ context, the type name is hashed. In practice, there is no need to know the type. The C++ code should use a placeholder type specifier auto. The type of the variable that is being declared will be automatically deduced from its initializer."
   ]
  },
  {
   "cell_type": "markdown",
   "id": "c03c9aa7",
   "metadata": {},
   "source": [
    "### Columns type  <a class=\"anchor\" id=\"Columns_type\"></a>"
   ]
  },
  {
   "cell_type": "code",
   "execution_count": 9,
   "id": "b9af73ee",
   "metadata": {},
   "outputs": [
    {
     "data": {
      "text/plain": [
       "'awkward::Record_TCZWUpuv5XA'"
      ]
     },
     "execution_count": 9,
     "metadata": {},
     "output_type": "execute_result"
    }
   ],
   "source": [
    "df.GetColumnType(\"x\")"
   ]
  },
  {
   "cell_type": "code",
   "execution_count": 10,
   "id": "11b0e8c2",
   "metadata": {},
   "outputs": [
    {
     "data": {
      "text/plain": [
       "'int64_t'"
      ]
     },
     "execution_count": 10,
     "metadata": {},
     "output_type": "execute_result"
    }
   ],
   "source": [
    "df.GetColumnType(\"y\")"
   ]
  },
  {
   "cell_type": "code",
   "execution_count": 11,
   "id": "d49a4622",
   "metadata": {},
   "outputs": [
    {
     "data": {
      "text/plain": [
       "'ROOT::VecOps::RVec<double>'"
      ]
     },
     "execution_count": 11,
     "metadata": {},
     "output_type": "execute_result"
    }
   ],
   "source": [
    "df.GetColumnType(\"z\")"
   ]
  },
  {
   "cell_type": "markdown",
   "id": "47571d83",
   "metadata": {},
   "source": [
    "### Operations on data in RDataFrame   <a class=\"anchor\" id=\"Operations_on_data_in_RDataFrame\"></a>"
   ]
  },
  {
   "cell_type": "markdown",
   "id": "448cc739",
   "metadata": {},
   "source": [
    "Scheduling a filtering operation does not execute the event loop."
   ]
  },
  {
   "cell_type": "code",
   "execution_count": 12,
   "id": "a1e8bea0",
   "metadata": {},
   "outputs": [],
   "source": [
    "df = df.Filter(\"y > 2\")"
   ]
  },
  {
   "cell_type": "markdown",
   "id": "b009a4e2",
   "metadata": {},
   "source": [
    "Let's check the state of the dataframe to make sure that the event loop was not triggered."
   ]
  },
  {
   "cell_type": "code",
   "execution_count": 13,
   "id": "892888d4",
   "metadata": {},
   "outputs": [
    {
     "name": "stdout",
     "output_type": "stream",
     "text": [
      "Dataframe from datasource Custom Datasource\n",
      "\n",
      "Property                Value\n",
      "--------                -----\n",
      "Columns in total            3\n",
      "Columns from defines        0\n",
      "Event loops run             0\n",
      "Processing slots            1\n",
      "\n",
      "Column  Type                            Origin\n",
      "------  ----                            ------\n",
      "x       awkward::Record_TCZWUpuv5XA     Dataset\n",
      "y       int64_t                         Dataset\n",
      "z       ROOT::VecOps::RVec<double>      Dataset"
     ]
    }
   ],
   "source": [
    "df.Describe().Print()"
   ]
  },
  {
   "cell_type": "markdown",
   "id": "9aded165",
   "metadata": {},
   "source": [
    "### Retrieve selected columns <a class=\"anchor\" id=\"Retrieve_selected_columns\"></a>"
   ]
  },
  {
   "cell_type": "markdown",
   "id": "76c88142",
   "metadata": {},
   "source": [
    "The `ak.from_rdataframe` function converts selected columns to native Awkward Arrays.\n",
    "\n",
    "The function takes a tuple of strings that are the RDF column names.\n",
    "\n",
    "The event loop is triggered once to retrieve all selected columns."
   ]
  },
  {
   "cell_type": "code",
   "execution_count": 15,
   "id": "2434242f",
   "metadata": {},
   "outputs": [],
   "source": [
    "out = ak.from_rdataframe(\n",
    "    df,\n",
    "    columns=(\"x\", \"y\", \"z\",),\n",
    ")"
   ]
  },
  {
   "cell_type": "code",
   "execution_count": 16,
   "id": "08f5a790",
   "metadata": {},
   "outputs": [
    {
     "data": {
      "text/html": [
       "<pre>[{y: 3, z: [3.1], x: {x: [3.1]}},\n",
       " {y: 4, z: [4.1, 4.2, 4.3], x: {x: [4.1, ...]}},\n",
       " {y: 5, z: [5.1], x: {x: [5.1]}}]\n",
       "------------------------------------------------\n",
       "type: 3 * {\n",
       "    y: int64,\n",
       "    z: var * float64,\n",
       "    x: {\n",
       "        x: var * float64\n",
       "    }\n",
       "}</pre>"
      ],
      "text/plain": [
       "<Array [{y: 3, z: [3.1], x: {...}}, ..., {...}] type='3 * {y: int64, z: var...'>"
      ]
     },
     "execution_count": 16,
     "metadata": {},
     "output_type": "execute_result"
    }
   ],
   "source": [
    "out"
   ]
  },
  {
   "cell_type": "markdown",
   "id": "fb4cdee9",
   "metadata": {},
   "source": [
    "Let's check the filtered entries for y > 2:"
   ]
  },
  {
   "cell_type": "code",
   "execution_count": 20,
   "id": "93bf6852",
   "metadata": {},
   "outputs": [
    {
     "name": "stdout",
     "output_type": "stream",
     "text": [
      "[3, 4, 5]\n",
      "[[3.1], [4.1, 4.2, 4.3], [5.1]]\n",
      "[{'x': [3.1]}, {'x': [4.1, 4.2, 4.3, 4.4]}, {'x': [5.1]}]\n"
     ]
    }
   ],
   "source": [
    "print(out[\"y\"].to_list())\n",
    "print(out[\"z\"].to_list())\n",
    "print(out[\"x\"].to_list())"
   ]
  },
  {
   "cell_type": "markdown",
   "id": "e4c3a7bd",
   "metadata": {},
   "source": [
    "Check to make sure we triggered the event loop only once:"
   ]
  },
  {
   "cell_type": "code",
   "execution_count": 21,
   "id": "c9f684be",
   "metadata": {},
   "outputs": [
    {
     "name": "stdout",
     "output_type": "stream",
     "text": [
      "Dataframe from datasource Custom Datasource\n",
      "\n",
      "Property                Value\n",
      "--------                -----\n",
      "Columns in total            3\n",
      "Columns from defines        0\n",
      "Event loops run             1\n",
      "Processing slots            1\n",
      "\n",
      "Column  Type                            Origin\n",
      "------  ----                            ------\n",
      "x       awkward::Record_TCZWUpuv5XA     Dataset\n",
      "y       int64_t                         Dataset\n",
      "z       ROOT::VecOps::RVec<double>      Dataset"
     ]
    }
   ],
   "source": [
    "df.Describe().Print()"
   ]
  },
  {
   "cell_type": "markdown",
   "id": "bb68d8b8",
   "metadata": {},
   "source": [
    "### Layout details <a class=\"anchor\" id=\"Layout_details\"></a>"
   ]
  },
  {
   "cell_type": "markdown",
   "id": "08712c95",
   "metadata": {},
   "source": [
    "The RecordArray data: its content NumpyArray - is not copied, it is indexed: it is wrapped in an IndexedArray - because of the filter selection. The other two columns data are copied."
   ]
  },
  {
   "cell_type": "code",
   "execution_count": 22,
   "id": "08e2745d",
   "metadata": {},
   "outputs": [
    {
     "data": {
      "text/plain": [
       "<RecordArray is_tuple='false' len='3'>\n",
       "    <content index='0' field='y'>\n",
       "        <NumpyArray dtype='int64' len='3'>[3 4 5]</NumpyArray>\n",
       "    </content>\n",
       "    <content index='1' field='z'>\n",
       "        <ListOffsetArray len='3'>\n",
       "            <offsets><Index dtype='int64' len='4'>\n",
       "                [0 1 4 5]\n",
       "            </Index></offsets>\n",
       "            <content><NumpyArray dtype='float64' len='5'>[3.1 4.1 4.2 4.3 5.1]</NumpyArray></content>\n",
       "        </ListOffsetArray>\n",
       "    </content>\n",
       "    <content index='2' field='x'>\n",
       "        <IndexedArray len='3'>\n",
       "            <index><Index dtype='int64' len='3'>\n",
       "                [2 3 4]\n",
       "            </Index></index>\n",
       "            <content><RecordArray is_tuple='false' len='5'>\n",
       "                <content index='0' field='x'>\n",
       "                    <ListArray len='5'>\n",
       "                        <starts><Index dtype='int64' len='5'>\n",
       "                            [ 0  3  5  6 10]\n",
       "                        </Index></starts>\n",
       "                        <stops><Index dtype='int64' len='5'>\n",
       "                            [ 3  5  6 10 11]\n",
       "                        </Index></stops>\n",
       "                        <content><NumpyArray dtype='float64' len='11'>\n",
       "                            [1.1 1.2 1.3 2.1 2.2 3.1 4.1 4.2 4.3 4.4 5.1]\n",
       "                        </NumpyArray></content>\n",
       "                    </ListArray>\n",
       "                </content>\n",
       "            </RecordArray></content>\n",
       "        </IndexedArray>\n",
       "    </content>\n",
       "</RecordArray>"
      ]
     },
     "execution_count": 22,
     "metadata": {},
     "output_type": "execute_result"
    }
   ],
   "source": [
    "out.layout"
   ]
  },
  {
   "cell_type": "markdown",
   "id": "5b538594",
   "metadata": {},
   "source": [
    "### The same operation on Awkward arrays in Python <a class=\"anchor\" id=\"The_same_operation_on_Awkward_arrays_in_Python\"></a>\n",
    "* Is the array type as expected? Yes.\n",
    "* Is its layout the same? No. Awkward arrays are immutable."
   ]
  },
  {
   "cell_type": "code",
   "execution_count": 23,
   "id": "3eceaad9",
   "metadata": {},
   "outputs": [
    {
     "name": "stdout",
     "output_type": "stream",
     "text": [
      "type: 3 * {\n",
      "    y: int64,\n",
      "    z: var * float64,\n",
      "    x: {\n",
      "        x: var * float64\n",
      "    }\n",
      "}\n",
      "[{y: 3, z: [3.1], x: {x: [3.1]}},\n",
      " {y: 4, z: [4.1, 4.2, 4.3], x: {x: [4.1, ...]}},\n",
      " {y: 5, z: [5.1], x: {x: [5.1]}}]\n"
     ]
    }
   ],
   "source": [
    "array_yzx = ak.Array({\"y\": array_y, \"z\": array_z, \"x\": array_x})\n",
    "filtered_array = array_yzx[array_yzx[\"y\"] > 2]\n",
    "filtered_array.show(type=True)"
   ]
  },
  {
   "cell_type": "code",
   "execution_count": 24,
   "id": "021f425a",
   "metadata": {},
   "outputs": [
    {
     "data": {
      "text/plain": [
       "<IndexedArray len='3'>\n",
       "    <index><Index dtype='int64' len='3'>\n",
       "        [2 3 4]\n",
       "    </Index></index>\n",
       "    <content><RecordArray is_tuple='false' len='5'>\n",
       "        <content index='0' field='y'>\n",
       "            <NumpyArray dtype='int64' len='5'>[1 2 3 4 5]</NumpyArray>\n",
       "        </content>\n",
       "        <content index='1' field='z'>\n",
       "            <ListOffsetArray len='5'>\n",
       "                <offsets><Index dtype='int64' len='6'>\n",
       "                    [0 1 4 5 8 9]\n",
       "                </Index></offsets>\n",
       "                <content><NumpyArray dtype='float64' len='9'>\n",
       "                    [1.1 2.1 2.3 2.4 3.1 4.1 4.2 4.3 5.1]\n",
       "                </NumpyArray></content>\n",
       "            </ListOffsetArray>\n",
       "        </content>\n",
       "        <content index='2' field='x'>\n",
       "            <RecordArray is_tuple='false' len='5'>\n",
       "                <content index='0' field='x'>\n",
       "                    <ListOffsetArray len='5'>\n",
       "                        <offsets><Index dtype='int64' len='6'>\n",
       "                            [ 0  3  5  6 10 11]\n",
       "                        </Index></offsets>\n",
       "                        <content><NumpyArray dtype='float64' len='11'>\n",
       "                            [1.1 1.2 1.3 2.1 2.2 3.1 4.1 4.2 4.3 4.4 5.1]\n",
       "                        </NumpyArray></content>\n",
       "                    </ListOffsetArray>\n",
       "                </content>\n",
       "            </RecordArray>\n",
       "        </content>\n",
       "    </RecordArray></content>\n",
       "</IndexedArray>"
      ]
     },
     "execution_count": 24,
     "metadata": {},
     "output_type": "execute_result"
    }
   ],
   "source": [
    "filtered_array.layout"
   ]
  },
  {
   "cell_type": "markdown",
   "id": "8fe0e541",
   "metadata": {},
   "source": [
    "## From RDataFrame to Awkward Array <a class=\"anchor\" id=\"From_RDataFrame_to_Awkward_Array\"></a>"
   ]
  },
  {
   "cell_type": "markdown",
   "id": "0b873855",
   "metadata": {},
   "source": [
    "The `ak.from_rdataframe` function converts selected columns to native Awkward Arrays. The function takes a tuple of strings that are the RDF column names and recognizes the following column data types:\n",
    "\n",
    "* Primitive types: `integer`, `float`, `double`, `std::complex<double>`, etc.\n",
    "    \n",
    "* Lists of primitive types and the arbitrary depth nested lists of primitive types: `std::vector<double>`, `RVec<int>`, etc.\n",
    "    \n",
    "* Awkward types: run-time generated types derived from `awkward::ArrayView` or `awkward::RecordView`\n",
    "    * no copy required because Awkward Arrays are immutable"
   ]
  },
  {
   "cell_type": "markdown",
   "id": "b94f44ba",
   "metadata": {},
   "source": [
    "## Data analysis: from C++ to Python <a class=\"anchor\" id=\"Data_analysis:_from_C++_to_Python\"></a>"
   ]
  },
  {
   "cell_type": "code",
   "execution_count": 25,
   "id": "9a61ef29",
   "metadata": {},
   "outputs": [],
   "source": [
    "import awkward as ak\n",
    "import ROOT"
   ]
  },
  {
   "cell_type": "code",
   "execution_count": 26,
   "id": "d8cbd089",
   "metadata": {},
   "outputs": [],
   "source": [
    "df = ROOT.RDataFrame('Events', 'root://eospublic.cern.ch//eos/opendata/cms/derived-data/AOD2NanoAODOutreachTool/Run2012BC_DoubleMuParked_Muons.root')"
   ]
  },
  {
   "cell_type": "markdown",
   "id": "53097c33",
   "metadata": {},
   "source": [
    "CMS data from CERN Open Data portal [DOI:10.7483/OPENDATA.CMS.LVG5.QT81](http://opendata.web.cern.ch/record/12341)\n",
    "\n",
    "* This dataset contains about 60 mio. data events from the CMS detector taken in 2012 during Run B and C.\n",
    "* The original AOD dataset is converted to the NanoAOD format and reduced to the muon collections.\n",
    "* The dataset in the file is called <b>Events</b> and contains the following columns:\n",
    "    * <b>nMuon</b> `unsigned int` <i>Number of muons in this event</i>\n",
    "    * <b>Muon_pt</b> `float[nMuon]` <i>Transverse momentum of the muons (stored as an array of size nMuon)</i>\n",
    "    * <b>Muon_eta</b> `float[nMuon]` <i>Pseudorapidity of the muons</i>\n",
    "    * <b>Muon_phi</b> `float[nMuon]` <i>Azimuth of the muons</i>\n",
    "    * <b>Muon_mass</b> `float[nMuon]` <i>Mass of the muons</i>\n",
    "    * <b>Muon_charge</b> `int[nMuon]` <i>Charge of the muons (either 1 or -1)</i>"
   ]
  },
  {
   "cell_type": "code",
   "execution_count": 27,
   "id": "7e01365d",
   "metadata": {},
   "outputs": [
    {
     "name": "stdout",
     "output_type": "stream",
     "text": [
      "Dataframe from TChain Events in file root://eospublic.cern.ch//eos/opendata/cms/derived-data/AOD2NanoAODOutreachTool/Run2012BC_DoubleMuParked_Muons.root\n",
      "\n",
      "Property                Value\n",
      "--------                -----\n",
      "Columns in total            6\n",
      "Columns from defines        0\n",
      "Event loops run             0\n",
      "Processing slots            1\n",
      "\n",
      "Column          Type                            Origin\n",
      "------          ----                            ------\n",
      "Muon_charge     ROOT::VecOps::RVec<Int_t>       Dataset\n",
      "Muon_eta        ROOT::VecOps::RVec<Float_t>     Dataset\n",
      "Muon_mass       ROOT::VecOps::RVec<Float_t>     Dataset\n",
      "Muon_phi        ROOT::VecOps::RVec<Float_t>     Dataset\n",
      "Muon_pt         ROOT::VecOps::RVec<Float_t>     Dataset\n",
      "nMuon           UInt_t                          Dataset"
     ]
    }
   ],
   "source": [
    "# Describe the state of the dataframe.\n",
    "# Note that this operation is not running the event loop.\n",
    "df.Describe().Print()"
   ]
  },
  {
   "cell_type": "markdown",
   "id": "ce47dc7a",
   "metadata": {},
   "source": [
    "Build a small analysis studying the invariant mass of dimuon systems.\n",
    "\n",
    "* See [ROOT tutorial](https://root.cern.ch/doc/master/df102__NanoAODDimuonAnalysis_8py.html) for more information."
   ]
  },
  {
   "cell_type": "code",
   "execution_count": 28,
   "id": "1482403f",
   "metadata": {},
   "outputs": [],
   "source": [
    "df = df.Filter('nMuon == 2')\\\n",
    "       .Filter('Muon_charge[0] != Muon_charge[1]')\\\n",
    "       .Define('Dimuon_mass', 'InvariantMass(Muon_pt, Muon_eta, Muon_phi, Muon_mass)')\\\n",
    "       .Filter('Dimuon_mass > 70')\\\n",
    "       .Range(1000)"
   ]
  },
  {
   "cell_type": "markdown",
   "id": "bc3460ab",
   "metadata": {},
   "source": [
    "Trigger the event loop by asking for the mean of the dimuon mass:"
   ]
  },
  {
   "cell_type": "code",
   "execution_count": 29,
   "id": "6e2f4812",
   "metadata": {},
   "outputs": [
    {
     "name": "stdout",
     "output_type": "stream",
     "text": [
      "\n",
      "Approximate mass of the Z boson: 91.44 GeV\n",
      "\n"
     ]
    }
   ],
   "source": [
    "print('\\nApproximate mass of the Z boson: {:.2f} GeV\\n'.format(\n",
    "        df.Mean('Dimuon_mass').GetValue()))"
   ]
  },
  {
   "cell_type": "markdown",
   "id": "52f5fc1d",
   "metadata": {},
   "source": [
    "Check that this operation triggered the event loop once"
   ]
  },
  {
   "cell_type": "code",
   "execution_count": 30,
   "id": "64b30fb8",
   "metadata": {},
   "outputs": [
    {
     "name": "stdout",
     "output_type": "stream",
     "text": [
      "Dataframe from TChain Events in file root://eospublic.cern.ch//eos/opendata/cms/derived-data/AOD2NanoAODOutreachTool/Run2012BC_DoubleMuParked_Muons.root\n",
      "\n",
      "Property                Value\n",
      "--------                -----\n",
      "Columns in total            7\n",
      "Columns from defines        1\n",
      "Event loops run             1\n",
      "Processing slots            1\n",
      "\n",
      "Column          Type                            Origin\n",
      "------          ----                            ------\n",
      "Dimuon_mass     float                           Define\n",
      "Muon_charge     ROOT::VecOps::RVec<Int_t>       Dataset\n",
      "Muon_eta        ROOT::VecOps::RVec<Float_t>     Dataset\n",
      "Muon_mass       ROOT::VecOps::RVec<Float_t>     Dataset\n",
      "Muon_phi        ROOT::VecOps::RVec<Float_t>     Dataset\n",
      "Muon_pt         ROOT::VecOps::RVec<Float_t>     Dataset\n",
      "nMuon           UInt_t                          Dataset"
     ]
    }
   ],
   "source": [
    "df.Describe().Print()"
   ]
  },
  {
   "cell_type": "markdown",
   "id": "4dc3b478",
   "metadata": {},
   "source": [
    "## Convert selected columns to Awkward Array <a class=\"anchor\" id=\"Convert_selected_columns_to_Awkward_Array\"></a>"
   ]
  },
  {
   "cell_type": "markdown",
   "id": "71229f4c",
   "metadata": {},
   "source": [
    "* The scheduled analysis executed the event loop once\n",
    "* A user can take the data out as an Awkward Array\n",
    "* If the columns type is not `awkward`, the `ROOT::VecOps::RVecs` content is copied to a Numpy buffer"
   ]
  },
  {
   "cell_type": "code",
   "execution_count": 31,
   "id": "c19deb13",
   "metadata": {},
   "outputs": [],
   "source": [
    "array = ak.from_rdataframe(\n",
    "        df,\n",
    "        columns=(\n",
    "            \"Dimuon_mass\",\n",
    "        ),\n",
    "    )"
   ]
  },
  {
   "cell_type": "code",
   "execution_count": 32,
   "id": "3bfe9b7a",
   "metadata": {},
   "outputs": [
    {
     "data": {
      "text/html": [
       "<pre>[{Dimuon_mass: 114},\n",
       " {Dimuon_mass: 88.3},\n",
       " {Dimuon_mass: 88.3},\n",
       " {Dimuon_mass: 91.3},\n",
       " {Dimuon_mass: 93.6},\n",
       " {Dimuon_mass: 90.9},\n",
       " {Dimuon_mass: 89.2},\n",
       " {Dimuon_mass: 82.3},\n",
       " {Dimuon_mass: 94.6},\n",
       " {Dimuon_mass: 89.2},\n",
       " ...,\n",
       " {Dimuon_mass: 86.4},\n",
       " {Dimuon_mass: 77.1},\n",
       " {Dimuon_mass: 89.8},\n",
       " {Dimuon_mass: 87.3},\n",
       " {Dimuon_mass: 92},\n",
       " {Dimuon_mass: 70.7},\n",
       " {Dimuon_mass: 89.6},\n",
       " {Dimuon_mass: 91.1},\n",
       " {Dimuon_mass: 90.1}]\n",
       "------------------------\n",
       "type: 1000 * {\n",
       "    Dimuon_mass: float32\n",
       "}</pre>"
      ],
      "text/plain": [
       "<Array [{Dimuon_mass: 114}, {...}, ..., {...}] type='1000 * {Dimuon_mass: f...'>"
      ]
     },
     "execution_count": 32,
     "metadata": {},
     "output_type": "execute_result"
    }
   ],
   "source": [
    "array"
   ]
  },
  {
   "cell_type": "code",
   "execution_count": null,
   "id": "304f2034",
   "metadata": {},
   "outputs": [],
   "source": []
  }
 ],
 "metadata": {
  "kernelspec": {
   "display_name": "Python 3 (ipykernel)",
   "language": "python",
   "name": "python3"
  },
  "language_info": {
   "codemirror_mode": {
    "name": "ipython",
    "version": 3
   },
   "file_extension": ".py",
   "mimetype": "text/x-python",
   "name": "python",
   "nbconvert_exporter": "python",
   "pygments_lexer": "ipython3",
   "version": "3.10.8"
  }
 },
 "nbformat": 4,
 "nbformat_minor": 5
}
